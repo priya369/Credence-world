{
 "cells": [
  {
   "cell_type": "code",
   "execution_count": null,
   "metadata": {},
   "outputs": [],
   "source": [
    "#Schedule Library is used to schedule a task at a particular time every day or a particular day of a week.\n",
    "#We can also set time in 24 hours format that when a task should run. \n",
    "#Basically, Schedule Library matches your systems time to that of scheduled time set by you. \n",
    "#Once the scheduled time and system time matches the job function (command function that is scheduled ) is called.\n",
    "#$pip install schedule "
   ]
  },
  {
   "cell_type": "code",
   "execution_count": null,
   "metadata": {},
   "outputs": [
    {
     "name": "stdout",
     "output_type": "stream",
     "text": [
      "Create JOb\n",
      "cheked created Date\n",
      "Create JOb\n",
      "cheked created Date\n"
     ]
    }
   ],
   "source": [
    "#schedule library imported\n",
    "import schedule\n",
    "import time\n",
    "\n",
    "def download_report():\n",
    "    print(\"downloading report...\")\n",
    "    \n",
    "def getAll_reportID():\n",
    "    print(\"Generating report id and name\")\n",
    "    \n",
    "def CheckCreatedDate():\n",
    "    print(\"cheked created Date\")\n",
    "\n",
    "def Job():\n",
    "    print(\"Create JOb\")\n",
    "# Task scheduling \n",
    "# After every 10mins CheckCreatedDate() is called.\n",
    "schedule.every(10).minutes.do(CheckCreatedDate)\n",
    "  \n",
    "# After every hour getAll_reportID() is called. \n",
    "schedule.every().hour.do(getAll_reportID) \n",
    "  \n",
    "# Every day at 12am or 00:00 time download_report() is called. \n",
    "schedule.every().day.at(\"00:00\").do(download_report) \n",
    "  \n",
    "# After every 5 to 10mins in between run Job() \n",
    "schedule.every(5).to(10).minutes.do(Job)               \n",
    "  \n",
    "# Every monday getAll_reportID() is called \n",
    "schedule.every().monday.do(getAll_reportID) \n",
    "  \n",
    "# Every tuesday at 18:00 download_report() is called \n",
    "schedule.every().tuesday.at(\"18:00\").do( download_report) \n",
    "  \n",
    "# Loop so that the scheduling task \n",
    "# keeps on running all time. \n",
    "while True: \n",
    "  \n",
    "    # Checks whether a scheduled task  \n",
    "    # is pending to run or not \n",
    "    schedule.run_pending() \n",
    "    time.sleep(1) "
   ]
  },
  {
   "cell_type": "code",
   "execution_count": null,
   "metadata": {},
   "outputs": [],
   "source": []
  },
  {
   "cell_type": "code",
   "execution_count": null,
   "metadata": {},
   "outputs": [],
   "source": []
  },
  {
   "cell_type": "code",
   "execution_count": null,
   "metadata": {},
   "outputs": [],
   "source": []
  },
  {
   "cell_type": "code",
   "execution_count": null,
   "metadata": {},
   "outputs": [],
   "source": []
  }
 ],
 "metadata": {
  "kernelspec": {
   "display_name": "Python 3",
   "language": "python",
   "name": "python3"
  },
  "language_info": {
   "codemirror_mode": {
    "name": "ipython",
    "version": 3
   },
   "file_extension": ".py",
   "mimetype": "text/x-python",
   "name": "python",
   "nbconvert_exporter": "python",
   "pygments_lexer": "ipython3",
   "version": "3.7.6"
  }
 },
 "nbformat": 4,
 "nbformat_minor": 4
}
