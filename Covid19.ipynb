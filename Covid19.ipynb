{
 "cells": [
  {
   "cell_type": "code",
   "execution_count": 3,
   "metadata": {},
   "outputs": [
    {
     "data": {
      "text/plain": [
       "<Response [200]>"
      ]
     },
     "execution_count": 3,
     "metadata": {},
     "output_type": "execute_result"
    }
   ],
   "source": [
    "import requests\n",
    "page = requests.get(\"https://www.nytimes.com/interactive/2020/us/states-reopen-map-coronavirus.html\")\n",
    "page\n",
    "#status code 200 which means request is accepted by server"
   ]
  },
  {
   "cell_type": "code",
   "execution_count": 4,
   "metadata": {},
   "outputs": [],
   "source": [
    "page.content\n",
    "from bs4 import BeautifulSoup\n",
    "import html5lib\n",
    "from dateutil.parser import parse\n",
    "import pandas as pd\n",
    "soup = BeautifulSoup(page.content, \"html5lib\")\n",
    "#print(soup.prettify())\n",
    "reopen_containers=soup.findAll(\"div\",{\"class\":\"g-list-container g-cat-reopened\"})\n",
    "#print(BeautifulSoup.prettify(reopen_containers[0]))\n",
    "reopen_container=reopen_containers[0]\n",
    "#print(reopen_container)\n",
    "reopen_state=reopen_container.findAll(\"div\",{\"class\":\"g-name\"})\n",
    "#print(reopen_state[0].text)\n",
    "reopen=[]\n",
    "for ropen in reopen_state:\n",
    "    #print(ropen.text)\n",
    "    reopen.append(ropen.text)\n",
    "#print(reopen)\n",
    "df_state=pd.DataFrame(reopen,columns=['States'])\n",
    "df_state['Status']=\"Reopened\"\n",
    "#reopening state---------------------------------------------------------------------------------------- \n",
    "reopening_containers=soup.findAll(\"div\",{\"class\":\"g-list-container g-cat-forward\"})\n",
    "#print(BeautifulSoup.prettify(reopening_containers[0]))\n",
    "reopening_container=reopening_containers[0]\n",
    "reopening_state=reopening_container.findAll(\"div\",{\"class\":\"g-name\"})\n",
    "#print(reopening_state[0].text)\n",
    "reopening=[]\n",
    "for ropng in reopening_state:\n",
    "    #print(ropng.text)\n",
    "    reopening.append(ropng.text)\n",
    "#print(reopening)\n",
    "df_state_opening=pd.DataFrame(reopening,columns=['States'])\n",
    "df_state_opening['Status']=\"Reopening\"\n",
    "#print(df_state_opening)\n",
    "opened_ing=df_state.append(df_state_opening, ignore_index = True)\n",
    "#pausing state-------------------------------------------------------------------------------------------\n",
    "pausing_containers=soup.findAll(\"div\",{\"class\":\"g-list-container g-cat-pausing\"})\n",
    "#print(BeautifulSoup.prettify(reopening_containers[0]))\n",
    "pausing_container=pausing_containers[0]\n",
    "pausing_state=pausing_container.findAll(\"div\",{\"class\":\"g-name\"})\n",
    "#print(pausing_state[0].text)\n",
    "pausing=[]\n",
    "for paus in pausing_state:\n",
    "    #print(paus.text)\n",
    "    pausing.append(paus.text)\n",
    "#print(pausing)\n",
    "df_state_paus=pd.DataFrame(pausing,columns=['States'])\n",
    "df_state_paus['Status']=\"Pausing\"\n",
    "#print(df_state_paus)\n",
    "paus_ing=opened_ing.append(df_state_paus, ignore_index = True)\n",
    "#Reversing------------------------------------------------------------------------------\n",
    "revrsng_containers=soup.findAll(\"div\",{\"class\":\"g-list-container g-cat-reversing\"})\n",
    "#print(BeautifulSoup.prettify(reopening_containers[0]))\n",
    "revrsng_container=revrsng_containers[0]\n",
    "revrsng_state=revrsng_container.findAll(\"div\",{\"class\":\"g-name\"})\n",
    "#print(revrsng_state[0].text)\n",
    "revrsng=[]\n",
    "for rs in revrsng_state:\n",
    "     #print(rs.text)\n",
    "     revrsng.append(rs.text)\n",
    "#print(revrsng)\n",
    "df_state_revrng=pd.DataFrame(revrsng,columns=['States'])\n",
    "df_state_revrng['Status']=\"Reversing\"\n",
    "#print(df_state_revrng)\n",
    "rsg_ing=paus_ing.append(df_state_revrng, ignore_index = True)\n",
    "#coverting date-------------------------------------\n",
    "time=soup.find(\"time\",{\"class\":\"css-wcxsge\"})\n",
    "tim=time.text\n",
    "t=tim.split(' ',1)\n",
    "t.pop(0)\n",
    "d=t[0]\n",
    "d=d.replace(\",\",\"\")\n",
    "from dateutil.parser import parse\n",
    "dt = parse(d)\n",
    "date=str(dt.day)+\"/\"+str(dt.month)+\"/\"+str(dt.year)\n",
    "rsg_ing['Updated']=date\n",
    "#rsg_ing\n",
    "#rsg_ing.to_csv(r\"C:\\Users\\Recompute\\Desktop\\covid19.csv\",index = False, header=True)"
   ]
  },
  {
   "cell_type": "code",
   "execution_count": 35,
   "metadata": {},
   "outputs": [
    {
     "ename": "SyntaxError",
     "evalue": "unexpected EOF while parsing (<ipython-input-35-e78e3b121f73>, line 16)",
     "output_type": "error",
     "traceback": [
      "\u001b[1;36m  File \u001b[1;32m\"<ipython-input-35-e78e3b121f73>\"\u001b[1;36m, line \u001b[1;32m16\u001b[0m\n\u001b[1;33m    csvwriter.writerows(openin\u001b[0m\n\u001b[1;37m                              ^\u001b[0m\n\u001b[1;31mSyntaxError\u001b[0m\u001b[1;31m:\u001b[0m unexpected EOF while parsing\n"
     ]
    }
   ],
   "source": [
    "import csv\n",
    "reopen_dels=reopen_container.findAll(\"div\",{\"class\":\"g-state g-cat-reopened\"})\n",
    "opening=[]\n",
    "for re in reopen_dels:\n",
    "           r=re.findAll(\"div\",{\"class\":\"g-cat-name\"})\n",
    "           list=[]\n",
    "           for t in r:\n",
    "               list.append(t.text)\n",
    "           opening.append(list)\n",
    "#print(opening)\n",
    "fields = ['Open'] \n",
    "filename = \"covid19.csv\"\n",
    "with open(filename, 'w') as csvfile:  \n",
    "    csvwriter = csv.writer(csvfile) \n",
    "    csvwriter.writerow(fields) \n",
    "    csvwriter.writerows(openin)"
   ]
  },
  {
   "cell_type": "code",
   "execution_count": 34,
   "metadata": {},
   "outputs": [],
   "source": []
  },
  {
   "cell_type": "code",
   "execution_count": null,
   "metadata": {},
   "outputs": [],
   "source": []
  },
  {
   "cell_type": "code",
   "execution_count": null,
   "metadata": {},
   "outputs": [],
   "source": []
  },
  {
   "cell_type": "code",
   "execution_count": null,
   "metadata": {},
   "outputs": [],
   "source": []
  },
  {
   "cell_type": "code",
   "execution_count": null,
   "metadata": {},
   "outputs": [],
   "source": []
  }
 ],
 "metadata": {
  "kernelspec": {
   "display_name": "Python 3",
   "language": "python",
   "name": "python3"
  },
  "language_info": {
   "codemirror_mode": {
    "name": "ipython",
    "version": 3
   },
   "file_extension": ".py",
   "mimetype": "text/x-python",
   "name": "python",
   "nbconvert_exporter": "python",
   "pygments_lexer": "ipython3",
   "version": "3.7.6"
  }
 },
 "nbformat": 4,
 "nbformat_minor": 4
}
